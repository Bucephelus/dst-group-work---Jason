{
 "cells": [
  {
   "cell_type": "markdown",
   "id": "1fa0a944",
   "metadata": {},
   "source": [
    "# Simple Linear Regression Model"
   ]
  },
  {
   "cell_type": "markdown",
   "id": "7684b940",
   "metadata": {},
   "source": [
    "## Data Import"
   ]
  },
  {
   "cell_type": "code",
   "execution_count": 33,
   "id": "abdfa260",
   "metadata": {},
   "outputs": [
    {
     "data": {
      "application/vnd.microsoft.datawrangler.viewer.v0+json": {
       "columns": [
        {
         "name": "index",
         "rawType": "int64",
         "type": "integer"
        },
        {
         "name": "longitude",
         "rawType": "float64",
         "type": "float"
        },
        {
         "name": "latitude",
         "rawType": "float64",
         "type": "float"
        },
        {
         "name": "housing_median_age",
         "rawType": "float64",
         "type": "float"
        },
        {
         "name": "total_rooms",
         "rawType": "float64",
         "type": "float"
        },
        {
         "name": "total_bedrooms",
         "rawType": "float64",
         "type": "float"
        },
        {
         "name": "population",
         "rawType": "float64",
         "type": "float"
        },
        {
         "name": "households",
         "rawType": "float64",
         "type": "float"
        },
        {
         "name": "median_income",
         "rawType": "float64",
         "type": "float"
        },
        {
         "name": "median_house_value",
         "rawType": "float64",
         "type": "float"
        },
        {
         "name": "ocean_proximity",
         "rawType": "object",
         "type": "string"
        }
       ],
       "ref": "7debaff9-6b77-467a-86e0-0ea87bb9b186",
       "rows": [
        [
         "0",
         "-122.23",
         "37.88",
         "41.0",
         "880.0",
         "129.0",
         "322.0",
         "126.0",
         "8.3252",
         "452600.0",
         "NEAR BAY"
        ],
        [
         "1",
         "-122.22",
         "37.86",
         "21.0",
         "7099.0",
         "1106.0",
         "2401.0",
         "1138.0",
         "8.3014",
         "358500.0",
         "NEAR BAY"
        ],
        [
         "2",
         "-122.24",
         "37.85",
         "52.0",
         "1467.0",
         "190.0",
         "496.0",
         "177.0",
         "7.2574",
         "352100.0",
         "NEAR BAY"
        ],
        [
         "3",
         "-122.25",
         "37.85",
         "52.0",
         "1274.0",
         "235.0",
         "558.0",
         "219.0",
         "5.6431",
         "341300.0",
         "NEAR BAY"
        ],
        [
         "4",
         "-122.25",
         "37.85",
         "52.0",
         "1627.0",
         "280.0",
         "565.0",
         "259.0",
         "3.8462",
         "342200.0",
         "NEAR BAY"
        ]
       ],
       "shape": {
        "columns": 10,
        "rows": 5
       }
      },
      "text/html": [
       "<div>\n",
       "<style scoped>\n",
       "    .dataframe tbody tr th:only-of-type {\n",
       "        vertical-align: middle;\n",
       "    }\n",
       "\n",
       "    .dataframe tbody tr th {\n",
       "        vertical-align: top;\n",
       "    }\n",
       "\n",
       "    .dataframe thead th {\n",
       "        text-align: right;\n",
       "    }\n",
       "</style>\n",
       "<table border=\"1\" class=\"dataframe\">\n",
       "  <thead>\n",
       "    <tr style=\"text-align: right;\">\n",
       "      <th></th>\n",
       "      <th>longitude</th>\n",
       "      <th>latitude</th>\n",
       "      <th>housing_median_age</th>\n",
       "      <th>total_rooms</th>\n",
       "      <th>total_bedrooms</th>\n",
       "      <th>population</th>\n",
       "      <th>households</th>\n",
       "      <th>median_income</th>\n",
       "      <th>median_house_value</th>\n",
       "      <th>ocean_proximity</th>\n",
       "    </tr>\n",
       "  </thead>\n",
       "  <tbody>\n",
       "    <tr>\n",
       "      <th>0</th>\n",
       "      <td>-122.23</td>\n",
       "      <td>37.88</td>\n",
       "      <td>41.0</td>\n",
       "      <td>880.0</td>\n",
       "      <td>129.0</td>\n",
       "      <td>322.0</td>\n",
       "      <td>126.0</td>\n",
       "      <td>8.3252</td>\n",
       "      <td>452600.0</td>\n",
       "      <td>NEAR BAY</td>\n",
       "    </tr>\n",
       "    <tr>\n",
       "      <th>1</th>\n",
       "      <td>-122.22</td>\n",
       "      <td>37.86</td>\n",
       "      <td>21.0</td>\n",
       "      <td>7099.0</td>\n",
       "      <td>1106.0</td>\n",
       "      <td>2401.0</td>\n",
       "      <td>1138.0</td>\n",
       "      <td>8.3014</td>\n",
       "      <td>358500.0</td>\n",
       "      <td>NEAR BAY</td>\n",
       "    </tr>\n",
       "    <tr>\n",
       "      <th>2</th>\n",
       "      <td>-122.24</td>\n",
       "      <td>37.85</td>\n",
       "      <td>52.0</td>\n",
       "      <td>1467.0</td>\n",
       "      <td>190.0</td>\n",
       "      <td>496.0</td>\n",
       "      <td>177.0</td>\n",
       "      <td>7.2574</td>\n",
       "      <td>352100.0</td>\n",
       "      <td>NEAR BAY</td>\n",
       "    </tr>\n",
       "    <tr>\n",
       "      <th>3</th>\n",
       "      <td>-122.25</td>\n",
       "      <td>37.85</td>\n",
       "      <td>52.0</td>\n",
       "      <td>1274.0</td>\n",
       "      <td>235.0</td>\n",
       "      <td>558.0</td>\n",
       "      <td>219.0</td>\n",
       "      <td>5.6431</td>\n",
       "      <td>341300.0</td>\n",
       "      <td>NEAR BAY</td>\n",
       "    </tr>\n",
       "    <tr>\n",
       "      <th>4</th>\n",
       "      <td>-122.25</td>\n",
       "      <td>37.85</td>\n",
       "      <td>52.0</td>\n",
       "      <td>1627.0</td>\n",
       "      <td>280.0</td>\n",
       "      <td>565.0</td>\n",
       "      <td>259.0</td>\n",
       "      <td>3.8462</td>\n",
       "      <td>342200.0</td>\n",
       "      <td>NEAR BAY</td>\n",
       "    </tr>\n",
       "  </tbody>\n",
       "</table>\n",
       "</div>"
      ],
      "text/plain": [
       "   longitude  latitude  housing_median_age  total_rooms  total_bedrooms  \\\n",
       "0    -122.23     37.88                41.0        880.0           129.0   \n",
       "1    -122.22     37.86                21.0       7099.0          1106.0   \n",
       "2    -122.24     37.85                52.0       1467.0           190.0   \n",
       "3    -122.25     37.85                52.0       1274.0           235.0   \n",
       "4    -122.25     37.85                52.0       1627.0           280.0   \n",
       "\n",
       "   population  households  median_income  median_house_value ocean_proximity  \n",
       "0       322.0       126.0         8.3252            452600.0        NEAR BAY  \n",
       "1      2401.0      1138.0         8.3014            358500.0        NEAR BAY  \n",
       "2       496.0       177.0         7.2574            352100.0        NEAR BAY  \n",
       "3       558.0       219.0         5.6431            341300.0        NEAR BAY  \n",
       "4       565.0       259.0         3.8462            342200.0        NEAR BAY  "
      ]
     },
     "execution_count": 33,
     "metadata": {},
     "output_type": "execute_result"
    }
   ],
   "source": [
    "# Modules\n",
    "import pandas as pd\n",
    "import seaborn as sns\n",
    "import matplotlib.pyplot as plt  \n",
    "import sklearn\n",
    "import numpy as np\n",
    "\n",
    "dfRaw = pd.read_csv('../Data/housingNoMissing.csv')\n",
    "dfRaw.head()"
   ]
  },
  {
   "cell_type": "markdown",
   "id": "dc032125",
   "metadata": {},
   "source": [
    "## One Hot Encoding\n",
    "*Should I be dropping one of the columns of the encoding to avoid multicollinearity?*"
   ]
  },
  {
   "cell_type": "code",
   "execution_count": 10,
   "id": "b1a1e4d7",
   "metadata": {},
   "outputs": [],
   "source": [
    "#df = pd.get_dummies(dfRaw, columns=['ocean_proximity'])\n",
    "#df.head()\n",
    "\n",
    "\n",
    "def oneHotEncoding(df):\n",
    "    \"\"\"One Hot Encoding for a specific column in a dataframe.\n",
    "    columnName: str\n",
    "    df: pandas DataFrame\n",
    "    \"\"\"\n",
    "    categoricalColumns = df.select_dtypes(include=['object']).columns.tolist()\n",
    "    encoder = sklearn.preprocessing.OneHotEncoder(sparse_output=False)\n",
    "    encodedArray = encoder.fit_transform(df[categoricalColumns])\n",
    "\n",
    "    encodedDf = pd.DataFrame(encodedArray, columns=encoder.get_feature_names_out(categoricalColumns))\n",
    "    df = pd.concat([df, encodedDf], axis=1)\n",
    "    df = df.drop(columns=categoricalColumns)\n",
    "    return df\n",
    "\n",
    "df = oneHotEncoding(dfRaw)"
   ]
  },
  {
   "cell_type": "markdown",
   "id": "2600d77d",
   "metadata": {},
   "source": [
    "## Test-Train Split"
   ]
  },
  {
   "cell_type": "code",
   "execution_count": 14,
   "id": "11b590ef",
   "metadata": {},
   "outputs": [],
   "source": [
    "dfTest, dfTrain = sklearn.model_selection.train_test_split(df, test_size=0.2, random_state=42)"
   ]
  },
  {
   "cell_type": "markdown",
   "id": "86fef311",
   "metadata": {},
   "source": [
    "## Linear Model\n",
    "Ordinary least squares"
   ]
  },
  {
   "cell_type": "markdown",
   "id": "ce0d2784",
   "metadata": {},
   "source": [
    "### Training\n",
    "\n",
    "- on all data $r^2 = 0.646$"
   ]
  },
  {
   "cell_type": "code",
   "execution_count": 19,
   "id": "77d452e2",
   "metadata": {},
   "outputs": [
    {
     "name": "stdout",
     "output_type": "stream",
     "text": [
      "r^2 value: 0.6462709340520585\n"
     ]
    }
   ],
   "source": [
    "reg = sklearn.linear_model.LinearRegression().fit(dfTrain.drop(columns=['median_house_value']), dfTrain['median_house_value'])\n",
    "\n",
    "print('r^2 value:', reg.score(dfTest.drop(columns=['median_house_value']), dfTest['median_house_value']))"
   ]
  },
  {
   "cell_type": "markdown",
   "id": "e55ebbc5",
   "metadata": {},
   "source": [
    "### Testing"
   ]
  },
  {
   "cell_type": "code",
   "execution_count": 37,
   "id": "c6067cc9",
   "metadata": {},
   "outputs": [
    {
     "name": "stdout",
     "output_type": "stream",
     "text": [
      "Mean Absolute Error: 49985.45185934857\n",
      "Mean Squared Error: 4728573082.358337\n",
      "Predictions < $0: 33\n",
      "Predictions > $500,000: 123\n"
     ]
    },
    {
     "data": {
      "image/png": "[encoded data removed]",
      "text/plain": [
       "<Figure size 640x480 with 1 Axes>"
      ]
     },
     "metadata": {},
     "output_type": "display_data"
    }
   ],
   "source": [
    "testPredicitions = reg.predict(dfTest.drop(columns=['median_house_value']))\n",
    "\n",
    "fig, ax1 = plt.subplots()\n",
    "bin_edges = np.linspace(min(dfTest['median_house_value'].min(), testPredicitions.min()),\n",
    "                       max(dfTest['median_house_value'].max(), testPredicitions.max()),\n",
    "                       51)  # 50 bins, 51 edges\n",
    "\n",
    "sns.histplot(testPredicitions, bins=bin_edges, label='Predictions', kde=False, alpha=0.4, ax=ax1)\n",
    "sns.histplot(dfTest['median_house_value'], bins=bin_edges, label='True Values', kde=False, alpha=0.4, ax=ax1)\n",
    "\n",
    "ax1.legend()\n",
    "\n",
    "\n",
    "print('Mean Absolute Error:', sklearn.metrics.mean_absolute_error(dfTest['median_house_value'], testPredicitions))\n",
    "print('Mean Squared Error:', sklearn.metrics.mean_squared_error(dfTest['median_house_value'], testPredicitions))\n",
    "\n",
    "print('Predictions < $0:', (testPredicitions < 0).sum())\n",
    "print('Predictions > $500,000:', (testPredicitions > 500000).sum())"
   ]
  },
  {
   "cell_type": "code",
   "execution_count": null,
   "id": "495cd2d6",
   "metadata": {},
   "outputs": [],
   "source": []
  },
  {
   "cell_type": "markdown",
   "id": "c4ff1ec5",
   "metadata": {},
   "source": [
    "## Analysis\n",
    "As expected it performs poorly as a basic linear model\n",
    "- predicts negative prices and greater than max given in the data"
   ]
  }
 ],
 "metadata": {
  "kernelspec": {
   "display_name": "myenv",
   "language": "python",
   "name": "python3"
  },
  "language_info": {
   "codemirror_mode": {
    "name": "ipython",
    "version": 3
   },
   "file_extension": ".py",
   "mimetype": "text/x-python",
   "name": "python",
   "nbconvert_exporter": "python",
   "pygments_lexer": "ipython3",
   "version": "3.12.7"
  }
 },
 "nbformat": 4,
 "nbformat_minor": 5
}
